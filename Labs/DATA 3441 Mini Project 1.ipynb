{
 "cells": [
  {
   "cell_type": "markdown",
   "id": "945953a4",
   "metadata": {},
   "source": [
    "## Mini Project 1"
   ]
  },
  {
   "cell_type": "markdown",
   "id": "7b7e8406",
   "metadata": {},
   "source": [
    "### Loading In Data"
   ]
  },
  {
   "cell_type": "code",
   "execution_count": 3,
   "id": "385d353a",
   "metadata": {},
   "outputs": [],
   "source": [
    "import pandas as pd\n",
    "import matplotlib.pyplot as plt"
   ]
  },
  {
   "cell_type": "code",
   "execution_count": 4,
   "id": "5894c8d0",
   "metadata": {},
   "outputs": [],
   "source": [
    "data = pd.read_csv('states.csv', header = None)"
   ]
  },
  {
   "cell_type": "code",
   "execution_count": 5,
   "id": "6f8aa0d8",
   "metadata": {},
   "outputs": [
    {
     "data": {
      "text/html": [
       "<div>\n",
       "<style scoped>\n",
       "    .dataframe tbody tr th:only-of-type {\n",
       "        vertical-align: middle;\n",
       "    }\n",
       "\n",
       "    .dataframe tbody tr th {\n",
       "        vertical-align: top;\n",
       "    }\n",
       "\n",
       "    .dataframe thead th {\n",
       "        text-align: right;\n",
       "    }\n",
       "</style>\n",
       "<table border=\"1\" class=\"dataframe\">\n",
       "  <thead>\n",
       "    <tr style=\"text-align: right;\">\n",
       "      <th></th>\n",
       "      <th>0</th>\n",
       "      <th>1</th>\n",
       "      <th>2</th>\n",
       "      <th>3</th>\n",
       "    </tr>\n",
       "  </thead>\n",
       "  <tbody>\n",
       "    <tr>\n",
       "      <th>0</th>\n",
       "      <td>State</td>\n",
       "      <td>Population</td>\n",
       "      <td>MurderRate</td>\n",
       "      <td>Abbreviation</td>\n",
       "    </tr>\n",
       "    <tr>\n",
       "      <th>1</th>\n",
       "      <td>Alabama</td>\n",
       "      <td>4779736</td>\n",
       "      <td>5.7</td>\n",
       "      <td>AL</td>\n",
       "    </tr>\n",
       "    <tr>\n",
       "      <th>2</th>\n",
       "      <td>Alaska</td>\n",
       "      <td>710231</td>\n",
       "      <td>5.6</td>\n",
       "      <td>AK</td>\n",
       "    </tr>\n",
       "    <tr>\n",
       "      <th>3</th>\n",
       "      <td>Arizona</td>\n",
       "      <td>6392017</td>\n",
       "      <td>4.7</td>\n",
       "      <td>AZ</td>\n",
       "    </tr>\n",
       "    <tr>\n",
       "      <th>4</th>\n",
       "      <td>Arkansas</td>\n",
       "      <td>2915918</td>\n",
       "      <td>5.6</td>\n",
       "      <td>AR</td>\n",
       "    </tr>\n",
       "    <tr>\n",
       "      <th>5</th>\n",
       "      <td>California</td>\n",
       "      <td>37253956</td>\n",
       "      <td>4.4</td>\n",
       "      <td>CA</td>\n",
       "    </tr>\n",
       "    <tr>\n",
       "      <th>6</th>\n",
       "      <td>Colorado</td>\n",
       "      <td>5029196</td>\n",
       "      <td>2.8</td>\n",
       "      <td>CO</td>\n",
       "    </tr>\n",
       "    <tr>\n",
       "      <th>7</th>\n",
       "      <td>Connecticut</td>\n",
       "      <td>3574097</td>\n",
       "      <td>2.4</td>\n",
       "      <td>CT</td>\n",
       "    </tr>\n",
       "    <tr>\n",
       "      <th>8</th>\n",
       "      <td>Delaware</td>\n",
       "      <td>897934</td>\n",
       "      <td>5.8</td>\n",
       "      <td>DE</td>\n",
       "    </tr>\n",
       "    <tr>\n",
       "      <th>9</th>\n",
       "      <td>Florida</td>\n",
       "      <td>18801310</td>\n",
       "      <td>5.8</td>\n",
       "      <td>FL</td>\n",
       "    </tr>\n",
       "    <tr>\n",
       "      <th>10</th>\n",
       "      <td>Georgia</td>\n",
       "      <td>9687653</td>\n",
       "      <td>5.7</td>\n",
       "      <td>GA</td>\n",
       "    </tr>\n",
       "    <tr>\n",
       "      <th>11</th>\n",
       "      <td>Hawaii</td>\n",
       "      <td>1360301</td>\n",
       "      <td>1.8</td>\n",
       "      <td>HI</td>\n",
       "    </tr>\n",
       "    <tr>\n",
       "      <th>12</th>\n",
       "      <td>Idaho</td>\n",
       "      <td>1567582</td>\n",
       "      <td>2</td>\n",
       "      <td>ID</td>\n",
       "    </tr>\n",
       "    <tr>\n",
       "      <th>13</th>\n",
       "      <td>Illinois</td>\n",
       "      <td>12830632</td>\n",
       "      <td>5.3</td>\n",
       "      <td>IL</td>\n",
       "    </tr>\n",
       "    <tr>\n",
       "      <th>14</th>\n",
       "      <td>Indiana</td>\n",
       "      <td>6483802</td>\n",
       "      <td>5</td>\n",
       "      <td>IN</td>\n",
       "    </tr>\n",
       "    <tr>\n",
       "      <th>15</th>\n",
       "      <td>Iowa</td>\n",
       "      <td>3046355</td>\n",
       "      <td>1.9</td>\n",
       "      <td>IA</td>\n",
       "    </tr>\n",
       "    <tr>\n",
       "      <th>16</th>\n",
       "      <td>Kansas</td>\n",
       "      <td>2853118</td>\n",
       "      <td>3.1</td>\n",
       "      <td>KS</td>\n",
       "    </tr>\n",
       "    <tr>\n",
       "      <th>17</th>\n",
       "      <td>Kentucky</td>\n",
       "      <td>4339367</td>\n",
       "      <td>3.6</td>\n",
       "      <td>KY</td>\n",
       "    </tr>\n",
       "    <tr>\n",
       "      <th>18</th>\n",
       "      <td>Louisiana</td>\n",
       "      <td>4533372</td>\n",
       "      <td>10.3</td>\n",
       "      <td>LA</td>\n",
       "    </tr>\n",
       "    <tr>\n",
       "      <th>19</th>\n",
       "      <td>Maine</td>\n",
       "      <td>1328361</td>\n",
       "      <td>1.6</td>\n",
       "      <td>ME</td>\n",
       "    </tr>\n",
       "    <tr>\n",
       "      <th>20</th>\n",
       "      <td>Maryland</td>\n",
       "      <td>5773552</td>\n",
       "      <td>6.1</td>\n",
       "      <td>MD</td>\n",
       "    </tr>\n",
       "    <tr>\n",
       "      <th>21</th>\n",
       "      <td>Massachusetts</td>\n",
       "      <td>6547629</td>\n",
       "      <td>2</td>\n",
       "      <td>MA</td>\n",
       "    </tr>\n",
       "    <tr>\n",
       "      <th>22</th>\n",
       "      <td>Michigan</td>\n",
       "      <td>9883640</td>\n",
       "      <td>5.4</td>\n",
       "      <td>MI</td>\n",
       "    </tr>\n",
       "    <tr>\n",
       "      <th>23</th>\n",
       "      <td>Minnesota</td>\n",
       "      <td>5303925</td>\n",
       "      <td>1.6</td>\n",
       "      <td>MN</td>\n",
       "    </tr>\n",
       "    <tr>\n",
       "      <th>24</th>\n",
       "      <td>Mississippi</td>\n",
       "      <td>2967297</td>\n",
       "      <td>8.6</td>\n",
       "      <td>MS</td>\n",
       "    </tr>\n",
       "    <tr>\n",
       "      <th>25</th>\n",
       "      <td>Missouri</td>\n",
       "      <td>5988927</td>\n",
       "      <td>6.6</td>\n",
       "      <td>MO</td>\n",
       "    </tr>\n",
       "    <tr>\n",
       "      <th>26</th>\n",
       "      <td>Montana</td>\n",
       "      <td>989415</td>\n",
       "      <td>3.6</td>\n",
       "      <td>MT</td>\n",
       "    </tr>\n",
       "    <tr>\n",
       "      <th>27</th>\n",
       "      <td>Nebraska</td>\n",
       "      <td>1826341</td>\n",
       "      <td>2.9</td>\n",
       "      <td>NE</td>\n",
       "    </tr>\n",
       "    <tr>\n",
       "      <th>28</th>\n",
       "      <td>Nevada</td>\n",
       "      <td>2700551</td>\n",
       "      <td>6</td>\n",
       "      <td>NV</td>\n",
       "    </tr>\n",
       "    <tr>\n",
       "      <th>29</th>\n",
       "      <td>NewHampshire</td>\n",
       "      <td>1316470</td>\n",
       "      <td>0.9</td>\n",
       "      <td>NH</td>\n",
       "    </tr>\n",
       "    <tr>\n",
       "      <th>30</th>\n",
       "      <td>NewJersey</td>\n",
       "      <td>8791894</td>\n",
       "      <td>3.9</td>\n",
       "      <td>NJ</td>\n",
       "    </tr>\n",
       "    <tr>\n",
       "      <th>31</th>\n",
       "      <td>NewMexico</td>\n",
       "      <td>2059179</td>\n",
       "      <td>4.8</td>\n",
       "      <td>NM</td>\n",
       "    </tr>\n",
       "    <tr>\n",
       "      <th>32</th>\n",
       "      <td>NewYork</td>\n",
       "      <td>19378102</td>\n",
       "      <td>3.1</td>\n",
       "      <td>NY</td>\n",
       "    </tr>\n",
       "    <tr>\n",
       "      <th>33</th>\n",
       "      <td>NorthCarolina</td>\n",
       "      <td>9535483</td>\n",
       "      <td>5.1</td>\n",
       "      <td>NC</td>\n",
       "    </tr>\n",
       "    <tr>\n",
       "      <th>34</th>\n",
       "      <td>NorthDakota</td>\n",
       "      <td>672591</td>\n",
       "      <td>3</td>\n",
       "      <td>ND</td>\n",
       "    </tr>\n",
       "    <tr>\n",
       "      <th>35</th>\n",
       "      <td>Ohio</td>\n",
       "      <td>11536504</td>\n",
       "      <td>4</td>\n",
       "      <td>OH</td>\n",
       "    </tr>\n",
       "    <tr>\n",
       "      <th>36</th>\n",
       "      <td>Oklahoma</td>\n",
       "      <td>3751351</td>\n",
       "      <td>4.5</td>\n",
       "      <td>OK</td>\n",
       "    </tr>\n",
       "    <tr>\n",
       "      <th>37</th>\n",
       "      <td>Oregon</td>\n",
       "      <td>3831074</td>\n",
       "      <td>2</td>\n",
       "      <td>OR</td>\n",
       "    </tr>\n",
       "    <tr>\n",
       "      <th>38</th>\n",
       "      <td>Pennsylvania</td>\n",
       "      <td>12702379</td>\n",
       "      <td>4.8</td>\n",
       "      <td>PA</td>\n",
       "    </tr>\n",
       "    <tr>\n",
       "      <th>39</th>\n",
       "      <td>RhodeIsland</td>\n",
       "      <td>1052567</td>\n",
       "      <td>2.4</td>\n",
       "      <td>RI</td>\n",
       "    </tr>\n",
       "    <tr>\n",
       "      <th>40</th>\n",
       "      <td>SouthCarolina</td>\n",
       "      <td>4625364</td>\n",
       "      <td>6.4</td>\n",
       "      <td>SC</td>\n",
       "    </tr>\n",
       "    <tr>\n",
       "      <th>41</th>\n",
       "      <td>SouthDakota</td>\n",
       "      <td>814180</td>\n",
       "      <td>2.3</td>\n",
       "      <td>SD</td>\n",
       "    </tr>\n",
       "    <tr>\n",
       "      <th>42</th>\n",
       "      <td>Tennessee</td>\n",
       "      <td>6346105</td>\n",
       "      <td>5.7</td>\n",
       "      <td>TN</td>\n",
       "    </tr>\n",
       "    <tr>\n",
       "      <th>43</th>\n",
       "      <td>Texas</td>\n",
       "      <td>25145561</td>\n",
       "      <td>4.4</td>\n",
       "      <td>TX</td>\n",
       "    </tr>\n",
       "    <tr>\n",
       "      <th>44</th>\n",
       "      <td>Utah</td>\n",
       "      <td>2763885</td>\n",
       "      <td>2.3</td>\n",
       "      <td>UT</td>\n",
       "    </tr>\n",
       "    <tr>\n",
       "      <th>45</th>\n",
       "      <td>Vermont</td>\n",
       "      <td>625741</td>\n",
       "      <td>1.6</td>\n",
       "      <td>VT</td>\n",
       "    </tr>\n",
       "    <tr>\n",
       "      <th>46</th>\n",
       "      <td>Virginia</td>\n",
       "      <td>8001024</td>\n",
       "      <td>4.1</td>\n",
       "      <td>VA</td>\n",
       "    </tr>\n",
       "    <tr>\n",
       "      <th>47</th>\n",
       "      <td>Washington</td>\n",
       "      <td>6724540</td>\n",
       "      <td>2.5</td>\n",
       "      <td>WA</td>\n",
       "    </tr>\n",
       "    <tr>\n",
       "      <th>48</th>\n",
       "      <td>WestVirginia</td>\n",
       "      <td>1852994</td>\n",
       "      <td>4</td>\n",
       "      <td>WV</td>\n",
       "    </tr>\n",
       "    <tr>\n",
       "      <th>49</th>\n",
       "      <td>Wisconsin</td>\n",
       "      <td>5686986</td>\n",
       "      <td>2.9</td>\n",
       "      <td>WI</td>\n",
       "    </tr>\n",
       "    <tr>\n",
       "      <th>50</th>\n",
       "      <td>Wyoming</td>\n",
       "      <td>563626</td>\n",
       "      <td>2.7</td>\n",
       "      <td>WY</td>\n",
       "    </tr>\n",
       "  </tbody>\n",
       "</table>\n",
       "</div>"
      ],
      "text/plain": [
       "                0           1           2             3\n",
       "0           State  Population  MurderRate  Abbreviation\n",
       "1         Alabama     4779736         5.7            AL\n",
       "2          Alaska      710231         5.6            AK\n",
       "3         Arizona     6392017         4.7            AZ\n",
       "4        Arkansas     2915918         5.6            AR\n",
       "5      California    37253956         4.4            CA\n",
       "6        Colorado     5029196         2.8            CO\n",
       "7     Connecticut     3574097         2.4            CT\n",
       "8        Delaware      897934         5.8            DE\n",
       "9         Florida    18801310         5.8            FL\n",
       "10        Georgia     9687653         5.7            GA\n",
       "11         Hawaii     1360301         1.8            HI\n",
       "12          Idaho     1567582           2            ID\n",
       "13       Illinois    12830632         5.3            IL\n",
       "14        Indiana     6483802           5            IN\n",
       "15           Iowa     3046355         1.9            IA\n",
       "16         Kansas     2853118         3.1            KS\n",
       "17       Kentucky     4339367         3.6            KY\n",
       "18      Louisiana     4533372        10.3            LA\n",
       "19          Maine     1328361         1.6            ME\n",
       "20       Maryland     5773552         6.1            MD\n",
       "21  Massachusetts     6547629           2            MA\n",
       "22       Michigan     9883640         5.4            MI\n",
       "23      Minnesota     5303925         1.6            MN\n",
       "24    Mississippi     2967297         8.6            MS\n",
       "25       Missouri     5988927         6.6            MO\n",
       "26        Montana      989415         3.6            MT\n",
       "27       Nebraska     1826341         2.9            NE\n",
       "28         Nevada     2700551           6            NV\n",
       "29   NewHampshire     1316470         0.9            NH\n",
       "30      NewJersey     8791894         3.9            NJ\n",
       "31      NewMexico     2059179         4.8            NM\n",
       "32        NewYork    19378102         3.1            NY\n",
       "33  NorthCarolina     9535483         5.1            NC\n",
       "34    NorthDakota      672591           3            ND\n",
       "35           Ohio    11536504           4            OH\n",
       "36       Oklahoma     3751351         4.5            OK\n",
       "37         Oregon     3831074           2            OR\n",
       "38   Pennsylvania    12702379         4.8            PA\n",
       "39    RhodeIsland     1052567         2.4            RI\n",
       "40  SouthCarolina     4625364         6.4            SC\n",
       "41    SouthDakota      814180         2.3            SD\n",
       "42      Tennessee     6346105         5.7            TN\n",
       "43          Texas    25145561         4.4            TX\n",
       "44           Utah     2763885         2.3            UT\n",
       "45        Vermont      625741         1.6            VT\n",
       "46       Virginia     8001024         4.1            VA\n",
       "47     Washington     6724540         2.5            WA\n",
       "48   WestVirginia     1852994           4            WV\n",
       "49      Wisconsin     5686986         2.9            WI\n",
       "50        Wyoming      563626         2.7            WY"
      ]
     },
     "execution_count": 5,
     "metadata": {},
     "output_type": "execute_result"
    }
   ],
   "source": [
    "data"
   ]
  },
  {
   "cell_type": "markdown",
   "id": "21d9f78f",
   "metadata": {},
   "source": [
    "## A"
   ]
  },
  {
   "cell_type": "markdown",
   "id": "1711bb76",
   "metadata": {},
   "source": [
    "Identify which variables are quantitative, qualitative, discrete, or continuous."
   ]
  },
  {
   "cell_type": "markdown",
   "id": "23a64e1b",
   "metadata": {},
   "source": [
    "State: Qualitative  \n",
    "Abbreviation: Qualitative  \n",
    "Population: Quantitative, Discrete  \n",
    "Murder Rate: Quantitative, Continuous"
   ]
  },
  {
   "cell_type": "markdown",
   "id": "ec43c87c",
   "metadata": {},
   "source": [
    "Population is a discrete quantitative variable because it represents a count and consists integers. Murder Rate is a continuous quantitative variable because it isn't simply a count of something, it doesn't consist of integers, and it changes over time."
   ]
  },
  {
   "cell_type": "markdown",
   "id": "a55863f7",
   "metadata": {},
   "source": [
    "## B"
   ]
  },
  {
   "cell_type": "markdown",
   "id": "a0af307d",
   "metadata": {},
   "source": [
    "If the variable is quantitative, construct a DENSITY histogram. (Use the summary steps introduced in class). Comment on the shapes of the histograms."
   ]
  },
  {
   "cell_type": "markdown",
   "id": "c80eb566",
   "metadata": {},
   "source": [
    "Two variables are quantitative."
   ]
  },
  {
   "cell_type": "markdown",
   "id": "f4161c28",
   "metadata": {},
   "source": [
    "### Population"
   ]
  },
  {
   "cell_type": "code",
   "execution_count": 6,
   "id": "55d468c6",
   "metadata": {},
   "outputs": [
    {
     "data": {
      "text/html": [
       "<div>\n",
       "<style scoped>\n",
       "    .dataframe tbody tr th:only-of-type {\n",
       "        vertical-align: middle;\n",
       "    }\n",
       "\n",
       "    .dataframe tbody tr th {\n",
       "        vertical-align: top;\n",
       "    }\n",
       "\n",
       "    .dataframe thead th {\n",
       "        text-align: right;\n",
       "    }\n",
       "</style>\n",
       "<table border=\"1\" class=\"dataframe\">\n",
       "  <thead>\n",
       "    <tr style=\"text-align: right;\">\n",
       "      <th></th>\n",
       "      <th>0</th>\n",
       "      <th>1</th>\n",
       "      <th>2</th>\n",
       "      <th>3</th>\n",
       "    </tr>\n",
       "  </thead>\n",
       "  <tbody>\n",
       "    <tr>\n",
       "      <th>46</th>\n",
       "      <td>Virginia</td>\n",
       "      <td>8001024</td>\n",
       "      <td>4.1</td>\n",
       "      <td>VA</td>\n",
       "    </tr>\n",
       "    <tr>\n",
       "      <th>47</th>\n",
       "      <td>Washington</td>\n",
       "      <td>6724540</td>\n",
       "      <td>2.5</td>\n",
       "      <td>WA</td>\n",
       "    </tr>\n",
       "    <tr>\n",
       "      <th>48</th>\n",
       "      <td>WestVirginia</td>\n",
       "      <td>1852994</td>\n",
       "      <td>4</td>\n",
       "      <td>WV</td>\n",
       "    </tr>\n",
       "    <tr>\n",
       "      <th>49</th>\n",
       "      <td>Wisconsin</td>\n",
       "      <td>5686986</td>\n",
       "      <td>2.9</td>\n",
       "      <td>WI</td>\n",
       "    </tr>\n",
       "    <tr>\n",
       "      <th>50</th>\n",
       "      <td>Wyoming</td>\n",
       "      <td>563626</td>\n",
       "      <td>2.7</td>\n",
       "      <td>WY</td>\n",
       "    </tr>\n",
       "  </tbody>\n",
       "</table>\n",
       "</div>"
      ],
      "text/plain": [
       "               0        1    2   3\n",
       "46      Virginia  8001024  4.1  VA\n",
       "47    Washington  6724540  2.5  WA\n",
       "48  WestVirginia  1852994    4  WV\n",
       "49     Wisconsin  5686986  2.9  WI\n",
       "50       Wyoming   563626  2.7  WY"
      ]
     },
     "execution_count": 6,
     "metadata": {},
     "output_type": "execute_result"
    }
   ],
   "source": [
    "data.tail()"
   ]
  },
  {
   "cell_type": "code",
   "execution_count": 7,
   "id": "fa603b61",
   "metadata": {},
   "outputs": [],
   "source": [
    "population = data[1]"
   ]
  },
  {
   "cell_type": "code",
   "execution_count": 8,
   "id": "0209e5de",
   "metadata": {},
   "outputs": [],
   "source": [
    "population = population.drop([0], axis = 0)"
   ]
  },
  {
   "cell_type": "code",
   "execution_count": 9,
   "id": "dec5964b",
   "metadata": {},
   "outputs": [
    {
     "data": {
      "text/plain": [
       "4779736"
      ]
     },
     "execution_count": 9,
     "metadata": {},
     "output_type": "execute_result"
    }
   ],
   "source": [
    "int(population[1])"
   ]
  },
  {
   "cell_type": "code",
   "execution_count": 10,
   "id": "37adb246",
   "metadata": {},
   "outputs": [],
   "source": [
    "population[1] = int(population[1])"
   ]
  },
  {
   "cell_type": "code",
   "execution_count": 20,
   "id": "3f8fecbc",
   "metadata": {},
   "outputs": [],
   "source": [
    "for i in range(1, len(population) + 1):\n",
    "    population[i] = float(population[i])"
   ]
  },
  {
   "cell_type": "code",
   "execution_count": 130,
   "id": "01b355f1",
   "metadata": {},
   "outputs": [
    {
     "data": {
      "image/png": "[encoded data removed]",
      "text/plain": [
       "<Figure size 432x288 with 1 Axes>"
      ]
     },
     "metadata": {
      "needs_background": "light"
     },
     "output_type": "display_data"
    }
   ],
   "source": [
    "population.plot.kde()\n",
    "plt.title('Density Plot for State Populations')\n",
    "plt.show()"
   ]
  },
  {
   "cell_type": "markdown",
   "id": "eade9c37",
   "metadata": {},
   "source": [
    "### Murder Rate"
   ]
  },
  {
   "cell_type": "code",
   "execution_count": 22,
   "id": "4b3f95c2",
   "metadata": {},
   "outputs": [],
   "source": [
    "murder_rate = data[2]"
   ]
  },
  {
   "cell_type": "code",
   "execution_count": 23,
   "id": "b115338d",
   "metadata": {},
   "outputs": [],
   "source": [
    "murder_rate = murder_rate.drop([0], axis = 0)"
   ]
  },
  {
   "cell_type": "code",
   "execution_count": 24,
   "id": "6ef63956",
   "metadata": {},
   "outputs": [],
   "source": [
    "for i in range(1, len(murder_rate) + 1):\n",
    "    murder_rate[i] = float(murder_rate[i])"
   ]
  },
  {
   "cell_type": "code",
   "execution_count": 131,
   "id": "aa81a9a6",
   "metadata": {},
   "outputs": [
    {
     "data": {
      "image/png": "[encoded data removed]",
      "text/plain": [
       "<Figure size 432x288 with 1 Axes>"
      ]
     },
     "metadata": {
      "needs_background": "light"
     },
     "output_type": "display_data"
    }
   ],
   "source": [
    "murder_rate.plot.kde()\n",
    "plt.title('Density Plot for State Murder Rates')\n",
    "plt.show()"
   ]
  },
  {
   "cell_type": "markdown",
   "id": "ac43fa20",
   "metadata": {},
   "source": [
    "## C"
   ]
  },
  {
   "cell_type": "markdown",
   "id": "74c0e273",
   "metadata": {},
   "source": [
    "For the quantitative variables, make a relative frequency histogram. Comment on its shape relative to the density histogram you made in (B)."
   ]
  },
  {
   "cell_type": "code",
   "execution_count": 26,
   "id": "758765d2",
   "metadata": {},
   "outputs": [],
   "source": [
    "import numpy as np"
   ]
  },
  {
   "cell_type": "markdown",
   "id": "ef0b3f09",
   "metadata": {},
   "source": [
    "### Population"
   ]
  },
  {
   "cell_type": "code",
   "execution_count": 126,
   "id": "9f5b6717",
   "metadata": {},
   "outputs": [
    {
     "data": {
      "text/plain": [
       "Text(0.5, 1.0, 'Relative Frequency Histogram for State Populations')"
      ]
     },
     "execution_count": 126,
     "metadata": {},
     "output_type": "execute_result"
    },
    {
     "data": {
      "image/png": "[encoded data removed]",
      "text/plain": [
       "<Figure size 432x288 with 1 Axes>"
      ]
     },
     "metadata": {
      "needs_background": "light"
     },
     "output_type": "display_data"
    }
   ],
   "source": [
    "plt.hist(population, weights = np.ones_like(population) / len(population))\n",
    "plt.title('Relative Frequency Histogram for State Populations')"
   ]
  },
  {
   "cell_type": "markdown",
   "id": "a98f5f1c",
   "metadata": {},
   "source": [
    "The shape of the relative frequency histogram for population is similar to the shape of the density curve for population. They're both skewed to the right."
   ]
  },
  {
   "cell_type": "markdown",
   "id": "bd212339",
   "metadata": {},
   "source": [
    "### Murder Rate"
   ]
  },
  {
   "cell_type": "code",
   "execution_count": 119,
   "id": "3779f670",
   "metadata": {},
   "outputs": [
    {
     "data": {
      "text/plain": [
       "Text(0.5, 1.0, 'Relative Frequency Histogram for State Murder Rates')"
      ]
     },
     "execution_count": 119,
     "metadata": {},
     "output_type": "execute_result"
    },
    {
     "data": {
      "image/png": "[encoded data removed]",
      "text/plain": [
       "<Figure size 432x288 with 1 Axes>"
      ]
     },
     "metadata": {
      "needs_background": "light"
     },
     "output_type": "display_data"
    }
   ],
   "source": [
    "plt.hist(murder_rate, weights = np.ones_like(murder_rate) / len(murder_rate))\n",
    "plt.title('Relative Frequency Histogram for State Murder Rates')"
   ]
  },
  {
   "cell_type": "markdown",
   "id": "e7217c5b",
   "metadata": {},
   "source": [
    "The shape of the relative frequency histogram for murder rate is similar to the shape of the density curve for murder rate. They're both slightly skewed to the right. They're not as skewed to the right as the histogram and density curve for population. You can also see the first high peak here followed by a dip and then a second lower peak which are seen on the density curve for murder rate."
   ]
  },
  {
   "cell_type": "markdown",
   "id": "c49c385e",
   "metadata": {},
   "source": [
    "## D"
   ]
  },
  {
   "cell_type": "markdown",
   "id": "80311d14",
   "metadata": {},
   "source": [
    "For the quantitative variables, compute the sample mean, standard deviation, and estimates of the 5th, 25th, 50th, 75th, and 95th quantiles."
   ]
  },
  {
   "cell_type": "markdown",
   "id": "053fba86",
   "metadata": {},
   "source": [
    "### Population"
   ]
  },
  {
   "cell_type": "markdown",
   "id": "f85039c5",
   "metadata": {},
   "source": [
    "Mean and Standard Deviation"
   ]
  },
  {
   "cell_type": "code",
   "execution_count": 62,
   "id": "60714809",
   "metadata": {},
   "outputs": [],
   "source": [
    "pop_mean = np.mean(population)\n",
    "pop_stdev = np.std(population)"
   ]
  },
  {
   "cell_type": "code",
   "execution_count": 65,
   "id": "03d31e69",
   "metadata": {},
   "outputs": [
    {
     "name": "stdout",
     "output_type": "stream",
     "text": [
      "The mean of the population data is:  6162876.3\n",
      "The standard deviation of the population data is:  6779407.114632265\n"
     ]
    }
   ],
   "source": [
    "print('The mean of the population data is: ', pop_mean)\n",
    "print('The standard deviation of the population data is: ', pop_stdev)"
   ]
  },
  {
   "cell_type": "markdown",
   "id": "3d7e55ec",
   "metadata": {},
   "source": [
    "Quantile Estimates"
   ]
  },
  {
   "cell_type": "code",
   "execution_count": 44,
   "id": "f1430514",
   "metadata": {},
   "outputs": [],
   "source": [
    "population = population.sort_values()"
   ]
  },
  {
   "cell_type": "code",
   "execution_count": 66,
   "id": "6a5eece3",
   "metadata": {},
   "outputs": [],
   "source": [
    "pop_5th = np.quantile(population, 0.05)\n",
    "pop_25th = np.quantile(population, 0.25)\n",
    "pop_50th = np.quantile(population, 0.5)\n",
    "pop_75th = np.quantile(population, 0.75)\n",
    "pop_95th = np.quantile(population, 0.95)"
   ]
  },
  {
   "cell_type": "code",
   "execution_count": 67,
   "id": "14ba6ae0",
   "metadata": {},
   "outputs": [
    {
     "name": "stdout",
     "output_type": "stream",
     "text": [
      "The 5th quantile of the population data is:  689529.0\n",
      "The 25th quantile of the population data is:  1833004.25\n",
      "The 50th quantile of the population data is:  4436369.5\n",
      "The 75th quantile of the population data is:  6680312.25\n",
      "The 95th quantile of the population data is:  19118545.6\n"
     ]
    }
   ],
   "source": [
    "print('The 5th quantile of the population data is: ', pop_5th)\n",
    "print('The 25th quantile of the population data is: ', pop_25th)\n",
    "print('The 50th quantile of the population data is: ', pop_50th)\n",
    "print('The 75th quantile of the population data is: ', pop_75th)\n",
    "print('The 95th quantile of the population data is: ', pop_95th)"
   ]
  },
  {
   "cell_type": "markdown",
   "id": "e973f348",
   "metadata": {},
   "source": [
    "### Murder Rate"
   ]
  },
  {
   "cell_type": "markdown",
   "id": "7566f92b",
   "metadata": {},
   "source": [
    "Mean and Standard Deviation"
   ]
  },
  {
   "cell_type": "code",
   "execution_count": 75,
   "id": "1eac78a6",
   "metadata": {},
   "outputs": [],
   "source": [
    "murder_mean = np.mean(murder_rate)\n",
    "murder_stdev = np.std(murder_rate)"
   ]
  },
  {
   "cell_type": "code",
   "execution_count": 76,
   "id": "89b6ff5d",
   "metadata": {},
   "outputs": [
    {
     "name": "stdout",
     "output_type": "stream",
     "text": [
      "The mean of the murder rate data is:  4.066\n",
      "The standard deviation of the murder rate data is:  1.896482006242084\n"
     ]
    }
   ],
   "source": [
    "print('The mean of the murder rate data is: ', murder_mean)\n",
    "print('The standard deviation of the murder rate data is: ', murder_stdev)"
   ]
  },
  {
   "cell_type": "markdown",
   "id": "dd51f6e9",
   "metadata": {},
   "source": [
    "Quantile Estimates"
   ]
  },
  {
   "cell_type": "code",
   "execution_count": 77,
   "id": "96ecd89b",
   "metadata": {},
   "outputs": [],
   "source": [
    "murder_rate = murder_rate.sort_values()"
   ]
  },
  {
   "cell_type": "code",
   "execution_count": 78,
   "id": "04799a7b",
   "metadata": {},
   "outputs": [],
   "source": [
    "murder_5th = np.quantile(murder_rate, 0.05)\n",
    "murder_25th = np.quantile(murder_rate, 0.25)\n",
    "murder_50th = np.quantile(murder_rate, 0.5)\n",
    "murder_75th = np.quantile(murder_rate, 0.75)\n",
    "murder_95th = np.quantile(murder_rate, 0.95)"
   ]
  },
  {
   "cell_type": "code",
   "execution_count": 79,
   "id": "5ad69bf7",
   "metadata": {},
   "outputs": [
    {
     "name": "stdout",
     "output_type": "stream",
     "text": [
      "The 5th quantile of the murder rate data is:  1.6\n",
      "The 25th quantile of the murder rate data is:  2.425\n",
      "The 50th quantile of the murder rate data is:  4.0\n",
      "The 75th quantile of the murder rate data is:  5.549999999999999\n",
      "The 95th quantile of the murder rate data is:  6.51\n"
     ]
    }
   ],
   "source": [
    "print('The 5th quantile of the murder rate data is: ', murder_5th)\n",
    "print('The 25th quantile of the murder rate data is: ', murder_25th)\n",
    "print('The 50th quantile of the murder rate data is: ', murder_50th)\n",
    "print('The 75th quantile of the murder rate data is: ', murder_75th)\n",
    "print('The 95th quantile of the murder rate data is: ', murder_95th)"
   ]
  },
  {
   "cell_type": "markdown",
   "id": "2b184d7f",
   "metadata": {},
   "source": [
    "## E"
   ]
  },
  {
   "cell_type": "markdown",
   "id": "76bd4cb3",
   "metadata": {},
   "source": [
    "Interpret the 75th quantile of the Murder Rate variable."
   ]
  },
  {
   "cell_type": "markdown",
   "id": "30fea5d0",
   "metadata": {},
   "source": [
    "The 75th quantile of the murder rate variable is 5.5499 which means that 75% of the murder rates for the 50 states lie below 5.5499 and 25% of the murder rates for the 50 states lie above 5.5499."
   ]
  },
  {
   "cell_type": "code",
   "execution_count": 88,
   "id": "4d683506",
   "metadata": {},
   "outputs": [],
   "source": [
    "df = data.drop([0], axis = 0)"
   ]
  },
  {
   "cell_type": "code",
   "execution_count": 94,
   "id": "190edbdb",
   "metadata": {},
   "outputs": [
    {
     "data": {
      "text/html": [
       "<div>\n",
       "<style scoped>\n",
       "    .dataframe tbody tr th:only-of-type {\n",
       "        vertical-align: middle;\n",
       "    }\n",
       "\n",
       "    .dataframe tbody tr th {\n",
       "        vertical-align: top;\n",
       "    }\n",
       "\n",
       "    .dataframe thead th {\n",
       "        text-align: right;\n",
       "    }\n",
       "</style>\n",
       "<table border=\"1\" class=\"dataframe\">\n",
       "  <thead>\n",
       "    <tr style=\"text-align: right;\">\n",
       "      <th></th>\n",
       "      <th>0</th>\n",
       "      <th>1</th>\n",
       "      <th>2</th>\n",
       "      <th>3</th>\n",
       "    </tr>\n",
       "  </thead>\n",
       "  <tbody>\n",
       "    <tr>\n",
       "      <th>29</th>\n",
       "      <td>NewHampshire</td>\n",
       "      <td>1316470</td>\n",
       "      <td>0.9</td>\n",
       "      <td>NH</td>\n",
       "    </tr>\n",
       "    <tr>\n",
       "      <th>23</th>\n",
       "      <td>Minnesota</td>\n",
       "      <td>5303925</td>\n",
       "      <td>1.6</td>\n",
       "      <td>MN</td>\n",
       "    </tr>\n",
       "    <tr>\n",
       "      <th>45</th>\n",
       "      <td>Vermont</td>\n",
       "      <td>625741</td>\n",
       "      <td>1.6</td>\n",
       "      <td>VT</td>\n",
       "    </tr>\n",
       "    <tr>\n",
       "      <th>19</th>\n",
       "      <td>Maine</td>\n",
       "      <td>1328361</td>\n",
       "      <td>1.6</td>\n",
       "      <td>ME</td>\n",
       "    </tr>\n",
       "    <tr>\n",
       "      <th>11</th>\n",
       "      <td>Hawaii</td>\n",
       "      <td>1360301</td>\n",
       "      <td>1.8</td>\n",
       "      <td>HI</td>\n",
       "    </tr>\n",
       "    <tr>\n",
       "      <th>15</th>\n",
       "      <td>Iowa</td>\n",
       "      <td>3046355</td>\n",
       "      <td>1.9</td>\n",
       "      <td>IA</td>\n",
       "    </tr>\n",
       "    <tr>\n",
       "      <th>18</th>\n",
       "      <td>Louisiana</td>\n",
       "      <td>4533372</td>\n",
       "      <td>10.3</td>\n",
       "      <td>LA</td>\n",
       "    </tr>\n",
       "    <tr>\n",
       "      <th>21</th>\n",
       "      <td>Massachusetts</td>\n",
       "      <td>6547629</td>\n",
       "      <td>2</td>\n",
       "      <td>MA</td>\n",
       "    </tr>\n",
       "    <tr>\n",
       "      <th>37</th>\n",
       "      <td>Oregon</td>\n",
       "      <td>3831074</td>\n",
       "      <td>2</td>\n",
       "      <td>OR</td>\n",
       "    </tr>\n",
       "    <tr>\n",
       "      <th>12</th>\n",
       "      <td>Idaho</td>\n",
       "      <td>1567582</td>\n",
       "      <td>2</td>\n",
       "      <td>ID</td>\n",
       "    </tr>\n",
       "    <tr>\n",
       "      <th>41</th>\n",
       "      <td>SouthDakota</td>\n",
       "      <td>814180</td>\n",
       "      <td>2.3</td>\n",
       "      <td>SD</td>\n",
       "    </tr>\n",
       "    <tr>\n",
       "      <th>44</th>\n",
       "      <td>Utah</td>\n",
       "      <td>2763885</td>\n",
       "      <td>2.3</td>\n",
       "      <td>UT</td>\n",
       "    </tr>\n",
       "    <tr>\n",
       "      <th>39</th>\n",
       "      <td>RhodeIsland</td>\n",
       "      <td>1052567</td>\n",
       "      <td>2.4</td>\n",
       "      <td>RI</td>\n",
       "    </tr>\n",
       "    <tr>\n",
       "      <th>7</th>\n",
       "      <td>Connecticut</td>\n",
       "      <td>3574097</td>\n",
       "      <td>2.4</td>\n",
       "      <td>CT</td>\n",
       "    </tr>\n",
       "    <tr>\n",
       "      <th>47</th>\n",
       "      <td>Washington</td>\n",
       "      <td>6724540</td>\n",
       "      <td>2.5</td>\n",
       "      <td>WA</td>\n",
       "    </tr>\n",
       "    <tr>\n",
       "      <th>50</th>\n",
       "      <td>Wyoming</td>\n",
       "      <td>563626</td>\n",
       "      <td>2.7</td>\n",
       "      <td>WY</td>\n",
       "    </tr>\n",
       "    <tr>\n",
       "      <th>6</th>\n",
       "      <td>Colorado</td>\n",
       "      <td>5029196</td>\n",
       "      <td>2.8</td>\n",
       "      <td>CO</td>\n",
       "    </tr>\n",
       "    <tr>\n",
       "      <th>49</th>\n",
       "      <td>Wisconsin</td>\n",
       "      <td>5686986</td>\n",
       "      <td>2.9</td>\n",
       "      <td>WI</td>\n",
       "    </tr>\n",
       "    <tr>\n",
       "      <th>27</th>\n",
       "      <td>Nebraska</td>\n",
       "      <td>1826341</td>\n",
       "      <td>2.9</td>\n",
       "      <td>NE</td>\n",
       "    </tr>\n",
       "    <tr>\n",
       "      <th>34</th>\n",
       "      <td>NorthDakota</td>\n",
       "      <td>672591</td>\n",
       "      <td>3</td>\n",
       "      <td>ND</td>\n",
       "    </tr>\n",
       "    <tr>\n",
       "      <th>32</th>\n",
       "      <td>NewYork</td>\n",
       "      <td>19378102</td>\n",
       "      <td>3.1</td>\n",
       "      <td>NY</td>\n",
       "    </tr>\n",
       "    <tr>\n",
       "      <th>16</th>\n",
       "      <td>Kansas</td>\n",
       "      <td>2853118</td>\n",
       "      <td>3.1</td>\n",
       "      <td>KS</td>\n",
       "    </tr>\n",
       "    <tr>\n",
       "      <th>17</th>\n",
       "      <td>Kentucky</td>\n",
       "      <td>4339367</td>\n",
       "      <td>3.6</td>\n",
       "      <td>KY</td>\n",
       "    </tr>\n",
       "    <tr>\n",
       "      <th>26</th>\n",
       "      <td>Montana</td>\n",
       "      <td>989415</td>\n",
       "      <td>3.6</td>\n",
       "      <td>MT</td>\n",
       "    </tr>\n",
       "    <tr>\n",
       "      <th>30</th>\n",
       "      <td>NewJersey</td>\n",
       "      <td>8791894</td>\n",
       "      <td>3.9</td>\n",
       "      <td>NJ</td>\n",
       "    </tr>\n",
       "    <tr>\n",
       "      <th>48</th>\n",
       "      <td>WestVirginia</td>\n",
       "      <td>1852994</td>\n",
       "      <td>4</td>\n",
       "      <td>WV</td>\n",
       "    </tr>\n",
       "    <tr>\n",
       "      <th>35</th>\n",
       "      <td>Ohio</td>\n",
       "      <td>11536504</td>\n",
       "      <td>4</td>\n",
       "      <td>OH</td>\n",
       "    </tr>\n",
       "    <tr>\n",
       "      <th>46</th>\n",
       "      <td>Virginia</td>\n",
       "      <td>8001024</td>\n",
       "      <td>4.1</td>\n",
       "      <td>VA</td>\n",
       "    </tr>\n",
       "    <tr>\n",
       "      <th>5</th>\n",
       "      <td>California</td>\n",
       "      <td>37253956</td>\n",
       "      <td>4.4</td>\n",
       "      <td>CA</td>\n",
       "    </tr>\n",
       "    <tr>\n",
       "      <th>43</th>\n",
       "      <td>Texas</td>\n",
       "      <td>25145561</td>\n",
       "      <td>4.4</td>\n",
       "      <td>TX</td>\n",
       "    </tr>\n",
       "    <tr>\n",
       "      <th>36</th>\n",
       "      <td>Oklahoma</td>\n",
       "      <td>3751351</td>\n",
       "      <td>4.5</td>\n",
       "      <td>OK</td>\n",
       "    </tr>\n",
       "    <tr>\n",
       "      <th>3</th>\n",
       "      <td>Arizona</td>\n",
       "      <td>6392017</td>\n",
       "      <td>4.7</td>\n",
       "      <td>AZ</td>\n",
       "    </tr>\n",
       "    <tr>\n",
       "      <th>31</th>\n",
       "      <td>NewMexico</td>\n",
       "      <td>2059179</td>\n",
       "      <td>4.8</td>\n",
       "      <td>NM</td>\n",
       "    </tr>\n",
       "    <tr>\n",
       "      <th>38</th>\n",
       "      <td>Pennsylvania</td>\n",
       "      <td>12702379</td>\n",
       "      <td>4.8</td>\n",
       "      <td>PA</td>\n",
       "    </tr>\n",
       "    <tr>\n",
       "      <th>14</th>\n",
       "      <td>Indiana</td>\n",
       "      <td>6483802</td>\n",
       "      <td>5</td>\n",
       "      <td>IN</td>\n",
       "    </tr>\n",
       "    <tr>\n",
       "      <th>33</th>\n",
       "      <td>NorthCarolina</td>\n",
       "      <td>9535483</td>\n",
       "      <td>5.1</td>\n",
       "      <td>NC</td>\n",
       "    </tr>\n",
       "    <tr>\n",
       "      <th>13</th>\n",
       "      <td>Illinois</td>\n",
       "      <td>12830632</td>\n",
       "      <td>5.3</td>\n",
       "      <td>IL</td>\n",
       "    </tr>\n",
       "    <tr>\n",
       "      <th>22</th>\n",
       "      <td>Michigan</td>\n",
       "      <td>9883640</td>\n",
       "      <td>5.4</td>\n",
       "      <td>MI</td>\n",
       "    </tr>\n",
       "    <tr>\n",
       "      <th>2</th>\n",
       "      <td>Alaska</td>\n",
       "      <td>710231</td>\n",
       "      <td>5.6</td>\n",
       "      <td>AK</td>\n",
       "    </tr>\n",
       "    <tr>\n",
       "      <th>4</th>\n",
       "      <td>Arkansas</td>\n",
       "      <td>2915918</td>\n",
       "      <td>5.6</td>\n",
       "      <td>AR</td>\n",
       "    </tr>\n",
       "    <tr>\n",
       "      <th>42</th>\n",
       "      <td>Tennessee</td>\n",
       "      <td>6346105</td>\n",
       "      <td>5.7</td>\n",
       "      <td>TN</td>\n",
       "    </tr>\n",
       "    <tr>\n",
       "      <th>1</th>\n",
       "      <td>Alabama</td>\n",
       "      <td>4779736</td>\n",
       "      <td>5.7</td>\n",
       "      <td>AL</td>\n",
       "    </tr>\n",
       "    <tr>\n",
       "      <th>10</th>\n",
       "      <td>Georgia</td>\n",
       "      <td>9687653</td>\n",
       "      <td>5.7</td>\n",
       "      <td>GA</td>\n",
       "    </tr>\n",
       "    <tr>\n",
       "      <th>9</th>\n",
       "      <td>Florida</td>\n",
       "      <td>18801310</td>\n",
       "      <td>5.8</td>\n",
       "      <td>FL</td>\n",
       "    </tr>\n",
       "    <tr>\n",
       "      <th>8</th>\n",
       "      <td>Delaware</td>\n",
       "      <td>897934</td>\n",
       "      <td>5.8</td>\n",
       "      <td>DE</td>\n",
       "    </tr>\n",
       "    <tr>\n",
       "      <th>28</th>\n",
       "      <td>Nevada</td>\n",
       "      <td>2700551</td>\n",
       "      <td>6</td>\n",
       "      <td>NV</td>\n",
       "    </tr>\n",
       "    <tr>\n",
       "      <th>20</th>\n",
       "      <td>Maryland</td>\n",
       "      <td>5773552</td>\n",
       "      <td>6.1</td>\n",
       "      <td>MD</td>\n",
       "    </tr>\n",
       "    <tr>\n",
       "      <th>40</th>\n",
       "      <td>SouthCarolina</td>\n",
       "      <td>4625364</td>\n",
       "      <td>6.4</td>\n",
       "      <td>SC</td>\n",
       "    </tr>\n",
       "    <tr>\n",
       "      <th>25</th>\n",
       "      <td>Missouri</td>\n",
       "      <td>5988927</td>\n",
       "      <td>6.6</td>\n",
       "      <td>MO</td>\n",
       "    </tr>\n",
       "    <tr>\n",
       "      <th>24</th>\n",
       "      <td>Mississippi</td>\n",
       "      <td>2967297</td>\n",
       "      <td>8.6</td>\n",
       "      <td>MS</td>\n",
       "    </tr>\n",
       "  </tbody>\n",
       "</table>\n",
       "</div>"
      ],
      "text/plain": [
       "                0         1     2   3\n",
       "29   NewHampshire   1316470   0.9  NH\n",
       "23      Minnesota   5303925   1.6  MN\n",
       "45        Vermont    625741   1.6  VT\n",
       "19          Maine   1328361   1.6  ME\n",
       "11         Hawaii   1360301   1.8  HI\n",
       "15           Iowa   3046355   1.9  IA\n",
       "18      Louisiana   4533372  10.3  LA\n",
       "21  Massachusetts   6547629     2  MA\n",
       "37         Oregon   3831074     2  OR\n",
       "12          Idaho   1567582     2  ID\n",
       "41    SouthDakota    814180   2.3  SD\n",
       "44           Utah   2763885   2.3  UT\n",
       "39    RhodeIsland   1052567   2.4  RI\n",
       "7     Connecticut   3574097   2.4  CT\n",
       "47     Washington   6724540   2.5  WA\n",
       "50        Wyoming    563626   2.7  WY\n",
       "6        Colorado   5029196   2.8  CO\n",
       "49      Wisconsin   5686986   2.9  WI\n",
       "27       Nebraska   1826341   2.9  NE\n",
       "34    NorthDakota    672591     3  ND\n",
       "32        NewYork  19378102   3.1  NY\n",
       "16         Kansas   2853118   3.1  KS\n",
       "17       Kentucky   4339367   3.6  KY\n",
       "26        Montana    989415   3.6  MT\n",
       "30      NewJersey   8791894   3.9  NJ\n",
       "48   WestVirginia   1852994     4  WV\n",
       "35           Ohio  11536504     4  OH\n",
       "46       Virginia   8001024   4.1  VA\n",
       "5      California  37253956   4.4  CA\n",
       "43          Texas  25145561   4.4  TX\n",
       "36       Oklahoma   3751351   4.5  OK\n",
       "3         Arizona   6392017   4.7  AZ\n",
       "31      NewMexico   2059179   4.8  NM\n",
       "38   Pennsylvania  12702379   4.8  PA\n",
       "14        Indiana   6483802     5  IN\n",
       "33  NorthCarolina   9535483   5.1  NC\n",
       "13       Illinois  12830632   5.3  IL\n",
       "22       Michigan   9883640   5.4  MI\n",
       "2          Alaska    710231   5.6  AK\n",
       "4        Arkansas   2915918   5.6  AR\n",
       "42      Tennessee   6346105   5.7  TN\n",
       "1         Alabama   4779736   5.7  AL\n",
       "10        Georgia   9687653   5.7  GA\n",
       "9         Florida  18801310   5.8  FL\n",
       "8        Delaware    897934   5.8  DE\n",
       "28         Nevada   2700551     6  NV\n",
       "20       Maryland   5773552   6.1  MD\n",
       "40  SouthCarolina   4625364   6.4  SC\n",
       "25       Missouri   5988927   6.6  MO\n",
       "24    Mississippi   2967297   8.6  MS"
      ]
     },
     "execution_count": 94,
     "metadata": {},
     "output_type": "execute_result"
    }
   ],
   "source": [
    "df = df.sort_values([2])\n",
    "df"
   ]
  },
  {
   "cell_type": "markdown",
   "id": "e58a63aa",
   "metadata": {},
   "source": [
    "The above data is sorted by murder rate (except for Lousiana which has a 10.3% murder rate and for some reason isn't sorting correctly. Every state that has a rate lower than 5.5499 lies below the 75th quantile. That's New Hampshire through Michigan in the above data (excluding Lousiana).  \n",
    "  \n",
    "Every state that has a rate higher than 5.5499 lies above the 75th quantile. That's Alaska through Mississippi (this would include Lousiana which is out of place in the sorted data above)."
   ]
  },
  {
   "cell_type": "markdown",
   "id": "10a3944f",
   "metadata": {},
   "source": [
    "## F"
   ]
  },
  {
   "cell_type": "markdown",
   "id": "45949c85",
   "metadata": {},
   "source": [
    "If Murder Rate has a bell-shaped population distribution, use the empirical rule to construct an interval within which are the Murder Rates of about 68% of the murders in the population sampled. Repeat for 95% and 99.7%. Does the shape of the Murder Rate histogram support the assumption of a bell-shaped distribution?"
   ]
  },
  {
   "cell_type": "code",
   "execution_count": 97,
   "id": "572ba136",
   "metadata": {},
   "outputs": [
    {
     "data": {
      "text/plain": [
       "Text(0.5, 1.0, 'Histogram for State Murder Rates')"
      ]
     },
     "execution_count": 97,
     "metadata": {},
     "output_type": "execute_result"
    },
    {
     "data": {
      "image/png": "[encoded data removed]",
      "text/plain": [
       "<Figure size 432x288 with 1 Axes>"
      ]
     },
     "metadata": {
      "needs_background": "light"
     },
     "output_type": "display_data"
    }
   ],
   "source": [
    "plt.hist(murder_rate)\n",
    "plt.title('Histogram for State Murder Rates')"
   ]
  },
  {
   "cell_type": "markdown",
   "id": "070770b8",
   "metadata": {},
   "source": [
    "The distribution isn't bell-shaped, but it's not extremely far off. This becomes clearer looking at the density curve again."
   ]
  },
  {
   "cell_type": "code",
   "execution_count": 99,
   "id": "d5547848",
   "metadata": {},
   "outputs": [
    {
     "data": {
      "text/plain": [
       "Text(0.5, 1.0, 'Density Curve for State Murder Rates')"
      ]
     },
     "execution_count": 99,
     "metadata": {},
     "output_type": "execute_result"
    },
    {
     "data": {
      "image/png": "[encoded data removed]",
      "text/plain": [
       "<Figure size 432x288 with 1 Axes>"
      ]
     },
     "metadata": {
      "needs_background": "light"
     },
     "output_type": "display_data"
    }
   ],
   "source": [
    "murder_rate.plot.kde()\n",
    "plt.title('Density Curve for State Murder Rates')"
   ]
  },
  {
   "cell_type": "markdown",
   "id": "795f494f",
   "metadata": {},
   "source": [
    "For a normal distribution, the 68-95-99.7 rule states that 68% of the data should fall within one standard deviation of the mean, 95% within two, and 99.7% within three."
   ]
  },
  {
   "cell_type": "code",
   "execution_count": 100,
   "id": "a6af10cd",
   "metadata": {},
   "outputs": [
    {
     "data": {
      "text/plain": [
       "4.066"
      ]
     },
     "execution_count": 100,
     "metadata": {},
     "output_type": "execute_result"
    }
   ],
   "source": [
    "murder_mean"
   ]
  },
  {
   "cell_type": "code",
   "execution_count": 105,
   "id": "04994da4",
   "metadata": {},
   "outputs": [
    {
     "data": {
      "text/plain": [
       "1.896482006242084"
      ]
     },
     "execution_count": 105,
     "metadata": {},
     "output_type": "execute_result"
    }
   ],
   "source": [
    "murder_stdev"
   ]
  },
  {
   "cell_type": "code",
   "execution_count": 106,
   "id": "bbaf62bd",
   "metadata": {},
   "outputs": [],
   "source": [
    "interval_68 = [murder_mean - murder_stdev, murder_mean + murder_stdev]\n",
    "interval_95 = [murder_mean - (2 * murder_stdev), murder_mean + (2 * murder_stdev)]\n",
    "interval_99 = [murder_mean - (3 * murder_stdev), murder_mean + (3 * murder_stdev)]"
   ]
  },
  {
   "cell_type": "code",
   "execution_count": 109,
   "id": "1bc6593d",
   "metadata": {},
   "outputs": [
    {
     "name": "stdout",
     "output_type": "stream",
     "text": [
      "[2.169517993757916, 5.962482006242084] [0.2730359875158319, 7.858964012484168] [-1.623446018726252, 9.755446018726252]\n"
     ]
    }
   ],
   "source": [
    "print(interval_68, interval_95, interval_99)"
   ]
  },
  {
   "cell_type": "code",
   "execution_count": 111,
   "id": "6401bf84",
   "metadata": {},
   "outputs": [],
   "source": [
    "count_68 = 0\n",
    "for i in murder_rate:\n",
    "    if i >= interval_68[0]:\n",
    "        if i <= interval_68[1]:\n",
    "            count_68 += 1"
   ]
  },
  {
   "cell_type": "code",
   "execution_count": 113,
   "id": "a74f070f",
   "metadata": {},
   "outputs": [],
   "source": [
    "count_95 = 0\n",
    "for i in murder_rate:\n",
    "    if i >= interval_95[0]:\n",
    "        if i <= interval_95[1]:\n",
    "            count_95 += 1"
   ]
  },
  {
   "cell_type": "code",
   "execution_count": 115,
   "id": "92692716",
   "metadata": {},
   "outputs": [],
   "source": [
    "count_99 = 0\n",
    "for i in murder_rate:\n",
    "    if i >= interval_99[0]:\n",
    "        if i <= interval_99[1]:\n",
    "            count_99 += 1"
   ]
  },
  {
   "cell_type": "code",
   "execution_count": 117,
   "id": "7b676913",
   "metadata": {},
   "outputs": [],
   "source": [
    "check_68 = count_68 / len(murder_rate)\n",
    "check_95 = count_95 / len(murder_rate)\n",
    "check_99 = count_99 / len(murder_rate)"
   ]
  },
  {
   "cell_type": "code",
   "execution_count": 118,
   "id": "65e4f8b1",
   "metadata": {},
   "outputs": [
    {
     "name": "stdout",
     "output_type": "stream",
     "text": [
      "0.7 0.96 0.98\n"
     ]
    }
   ],
   "source": [
    "print(check_68, check_95, check_99)"
   ]
  },
  {
   "cell_type": "markdown",
   "id": "c1c52030",
   "metadata": {},
   "source": [
    "So, 70% of the data for state murder rates falls within one standard deviation of the mean. 96% of the data falls within two standard deviations of the mean. 98% of the data falls within three standard deviations of the mean. This does not match the 68-95-99.7 rule, but it is close much like the shape of the distribution as shown in both the histogram and the density curve are close to bell-shaped."
   ]
  },
  {
   "cell_type": "code",
   "execution_count": null,
   "id": "543bb437",
   "metadata": {},
   "outputs": [],
   "source": []
  }
 ],
 "metadata": {
  "kernelspec": {
   "display_name": "Python 3 (ipykernel)",
   "language": "python",
   "name": "python3"
  },
  "language_info": {
   "codemirror_mode": {
    "name": "ipython",
    "version": 3
   },
   "file_extension": ".py",
   "mimetype": "text/x-python",
   "name": "python",
   "nbconvert_exporter": "python",
   "pygments_lexer": "ipython3",
   "version": "3.8.10"
  }
 },
 "nbformat": 4,
 "nbformat_minor": 5
}
